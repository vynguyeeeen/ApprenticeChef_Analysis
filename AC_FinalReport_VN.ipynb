{
 "cells": [
  {
   "cell_type": "markdown",
   "metadata": {},
   "source": [
    "# Apprentice Chef Analysis Report"
   ]
  },
  {
   "cell_type": "markdown",
   "metadata": {},
   "source": [
    "Apprentice Chef (AC) can predict revenue over each customer’s life cycle via optimizing the time of each meal preparation video and rating per meal set - as they have the highest correlation to revenue (see Appendix B) through: \n",
    " \n",
    "1. **Finding a sweet spot between 8-150 seconds**, which is the average attention span and time per instruction video. Consider adopting a similar video format to Buzzfeed’s recipe videos where videos range from 30-120 seconds and only show the cooking process (Thurston, 2015).With a short and aesthetically pleasing video, attention span will be less of a concern and customers will be more inclined to purchase a meal set. \n",
    "\n",
    " \n",
    "2. **Replacing fixed meal set strategy with flexibility in the selection process**. Adhering to personal health and wellness criteria without compromising the menu will improve ratings (Kvidahl, 2018) and tailored meal suggestion strategies. \n",
    " \n",
    " \n",
    "AC can also guarantee subscriptions to the new cross-selling plan by optimizing with customers who registered using their full names and not junk email - as evident in the highest correlation value in Appendix C by: \n",
    " \n",
    " \n",
    "1. **Improving UX design to encourage clients to input professional emails upon signing up**. For example, through microinteractions like pop-ups, if AC can preface the importance of receiving order confirmations and tracking one’s delivery, users will be more likely to input an email they check most. Thus, more likely to see cross-selling promotional emails. \n",
    " \n",
    " \n",
    "2. **Targeting marketing materials to customers who imputed more than 2 words in the ‘full name’ field**. Personal privacy is highly valued amongst today’s consumers. However, if a customer is sharing their full name, they have demonstrated interest, trust and susceptibility to receiving promotional emails (Buckle, 2018). \n",
    " \n",
    " \n",
    "With statistical accuracy: R-Square of 0.795 and AUC of 0.732, implementing suggested actionable insights will positively reflect in the top line and successful cross-selling plans. \n",
    " \n"
   ]
  },
  {
   "cell_type": "markdown",
   "metadata": {},
   "source": [
    "# Appendices"
   ]
  },
  {
   "cell_type": "markdown",
   "metadata": {},
   "source": [
    "**Behind-the-Scence of Statistical Evidences**  "
   ]
  },
  {
   "cell_type": "code",
   "execution_count": 1,
   "metadata": {
    "deletable": false,
    "editable": false
   },
   "outputs": [],
   "source": [
    "#####################################\n",
    "# IMPORTING LIBRIARIES \n",
    "#####################################\n",
    "import pandas as pd                                  # data science essentials\n",
    "import matplotlib.pyplot as plt                      # data visualization\n",
    "import seaborn as sns                                # enhanced data viz\n",
    "import numpy as np                                   # numpy for math\n",
    "from sklearn.model_selection import train_test_split # train-test split\n",
    "import statsmodels.formula.api as smf                # statsmodel\n",
    "from sklearn.linear_model import LinearRegression    # linear regression \n",
    "import sklearn.linear_model                          # linear models\n",
    "from sklearn.tree import DecisionTreeClassifier      # classification trees\n",
    "from sklearn.tree import export_graphviz             # exports graphics\n",
    "from six import StringIO                             # saves objects \n",
    "import pydotplus                                     # interprets dot objects\n",
    "from sklearn.metrics import confusion_matrix         # confusion matrix\n",
    "from sklearn.metrics import roc_auc_score            # auc score\n",
    "\n",
    "# setting pandas print options\n",
    "pd.set_option('display.max_rows', 500)\n",
    "pd.set_option('display.max_columns', 500)\n",
    "pd.set_option('display.width', 1000)\n",
    "\n",
    "# specifying the path and reading the file into Python\n",
    "df = pd.read_excel(io='Apprentice_Chef_Dataset.xlsx')"
   ]
  },
  {
   "cell_type": "code",
   "execution_count": 2,
   "metadata": {
    "deletable": false,
    "editable": false
   },
   "outputs": [],
   "source": [
    "#####################################\n",
    "# LOAD USER DEFINE FUNCTIONS \n",
    "#####################################\n",
    "\n",
    "# text_split_feature\n",
    "def text_split_feature(col, df, sep=' ', new_col_name='NUMBER_OF_NAMES'):\n",
    "    \"\"\"\n",
    "Splits values in a string Series (as part of a DataFrame) and sums the number\n",
    "of resulting items. Automatically appends summed column to original DataFrame.\n",
    "\n",
    "PARAMETERS\n",
    "----------\n",
    "col          : column to split\n",
    "df           : DataFrame where column is located\n",
    "sep          : string sequence to split by, default ' '\n",
    "new_col_name : name of new column after summing split, default\n",
    "               'NUMBER_OF_NAMES'\n",
    "\"\"\"\n",
    "    df[new_col_name] = 0\n",
    "\n",
    "    for index, val in df.iterrows():\n",
    "        df.loc[index, new_col_name] = len(df.loc[index, col].split(sep = ' '))\n",
    "        \n",
    "\n",
    "        # display_tree\n",
    "def display_tree(tree, feature_df, height = 500, width = 800):\n",
    "    \"\"\"\n",
    "PARAMETERS\n",
    "----------\n",
    "tree      : fitted tree model object\n",
    "    fitted CART model to visualized\n",
    "feature_df : DataFrame\n",
    "    DataFrame of explanatory features (used to generate labels)\n",
    "height     : int, default 500\n",
    "    height in pixels to which to constrain image in html\n",
    "width      : int, default 800\n",
    "    width in pixels to which to constrain image in html\n",
    "\"\"\"\n",
    "\n",
    "    # visualizing the tree\n",
    "    dot_data = StringIO()\n",
    "\n",
    "    # exporting tree to graphviz\n",
    "    export_graphviz(decision_tree      = tree,\n",
    "                    out_file           = dot_data,\n",
    "                    filled             = True,\n",
    "                    rounded            = True,\n",
    "                    special_characters = True,\n",
    "                    feature_names      = feature_df.columns)\n",
    "\n",
    "    # declaring a graph object\n",
    "    graph = pydotplus.graph_from_dot_data(dot_data.getvalue())\n",
    "\n",
    "    # creating image\n",
    "    img = Image(graph.create_png(),\n",
    "                height = height,\n",
    "                width  = width)\n",
    "    \n",
    "    return img\n",
    "\n",
    "\n",
    "# plot_feature_importances\n",
    "def plot_feature_importances(model, train, export = False):\n",
    "    \"\"\"\n",
    "    Plots the importance of features from a CART model.\n",
    "    \n",
    "    PARAMETERS\n",
    "    ----------\n",
    "    model  : CART model\n",
    "    train  : explanatory variable training data\n",
    "    export : whether or not to export as a .png image, default False\n",
    "    \"\"\"\n",
    "    \n",
    "    # declaring the number\n",
    "    n_features = x_train.shape[1]\n",
    "    \n",
    "    # setting plot window\n",
    "    fig, ax = plt.subplots(figsize=(12,9))\n",
    "    \n",
    "    plt.barh(range(n_features), model.feature_importances_, align='center')\n",
    "    plt.yticks(pd.np.arange(n_features), train.columns)\n",
    "    plt.xlabel(\"Feature importance\")\n",
    "    plt.ylabel(\"Feature\")\n",
    "    \n",
    "    if export == True:\n",
    "        plt.savefig('Classification_Feature_Importance.png')"
   ]
  },
  {
   "cell_type": "code",
   "execution_count": 3,
   "metadata": {
    "deletable": false,
    "editable": false
   },
   "outputs": [],
   "source": [
    "#####################################\n",
    "# FEATURE ENGINEERING\n",
    "#####################################\n",
    "\n",
    "# log transforming and saving it to the dataset\n",
    "df['log_REVENUE'] = np.log10(df['REVENUE'])\n",
    "df['log_TOTAL_MEALS_ORDERED'] = np.log10(df['TOTAL_MEALS_ORDERED'])\n",
    "df['log_LARGEST_ORDER_SIZE'] = np.log10(df['LARGEST_ORDER_SIZE'])\n",
    "df['log_MEDIAN_MEAL_RATING'] = np.log10(df['MEDIAN_MEAL_RATING'])\n",
    "df['log_AVG_CLICKS_PER_VISIT'] = np.log10(df['AVG_CLICKS_PER_VISIT'])\n",
    "df['log_AVG_TIME_PER_SITE_VISIT'] = np.log10(df['AVG_TIME_PER_SITE_VISIT'])\n",
    "df['log_UNIQUE_MEALS_PURCH'] = np.log10(df['UNIQUE_MEALS_PURCH'])\n",
    "df['log_CONTACTS_W_CUSTOMER_SERVICE'] = np.log10(df['CONTACTS_W_CUSTOMER_SERVICE'])\n",
    "df['log_PRODUCT_CATEGORIES_VIEWED'] = np.log10(df['PRODUCT_CATEGORIES_VIEWED'])\n",
    "df['log_PC_LOGINS'] = np.log10(df['PC_LOGINS'])"
   ]
  },
  {
   "cell_type": "code",
   "execution_count": 4,
   "metadata": {
    "deletable": false,
    "editable": false
   },
   "outputs": [],
   "source": [
    "# assign dummy variables \n",
    "df['HAS_CLASS']                = 0  \n",
    "df['HAS_PHOTOS']               = 0\n",
    "df['HAS_TOTAL_MEALS_ORDERED']  = 0\n",
    "\n",
    "for index, value in df.iterrows():\n",
    "    # TOTAL MASTER CLASS   \n",
    "    if df.loc[index, 'MASTER_CLASSES_ATTENDED'] > 0:\n",
    "        df.loc[index, 'HAS_CLASS'] = 1\n",
    "\n",
    "    # TOTAL_PHOTOS_VIEWED\n",
    "    if df.loc[index, 'TOTAL_PHOTOS_VIEWED'] > 0:\n",
    "        df.loc[index, 'HAS_PHOTOS'] = 1\n",
    "    \n",
    "    # TOTAL_MEAL_ORDERED\n",
    "    if df.loc[index, 'TOTAL_MEALS_ORDERED'] >= 20:\n",
    "        df.loc[index, 'HAS_TOTAL_MEALS_ORDERED'] = 1"
   ]
  },
  {
   "cell_type": "code",
   "execution_count": 5,
   "metadata": {
    "deletable": false,
    "editable": false
   },
   "outputs": [],
   "source": [
    "# make new variables ('junk', 'professional', 'personal')\n",
    "\n",
    "# STEP 1: split 'EMAIL'\n",
    "# placeholder list\n",
    "placeholder_lst = []\n",
    "\n",
    "# looping over each email address\n",
    "for index, col in df.iterrows():\n",
    "    \n",
    "    # splitting email domain at '@'\n",
    "    split_email = df.loc[index, 'EMAIL'].split(sep = '@')\n",
    "    \n",
    "    # appending placeholder_lst with the results\n",
    "    placeholder_lst.append(split_email)\n",
    "    \n",
    "# converting placeholder_lst into a DataFrame \n",
    "email_df = pd.DataFrame(placeholder_lst)\n",
    "\n",
    "# renaming column to concatenate\n",
    "email_df.columns = ['user_name','email_domain']\n",
    "\n",
    "\n",
    "# STEP 2: contatenate with original DataFrame\n",
    "# concatenating personal_email_domain with df DataFrame\n",
    "df = pd.concat([df, email_df['email_domain']],\n",
    "                        axis = 1)\n",
    "\n",
    "\n",
    "# email domain types (based on the case)\n",
    "personal            = [     '@gmail.com', '@protonmail.com','@yahoo.com']\n",
    "\n",
    "junk                = [     '@msn.com'          ,          \n",
    "                            '@aol.com'          ,          \n",
    "                            '@passport.com'     ,         \n",
    "                            '@hotmail.com'      ,         \n",
    "                            '@live.com'         ,         \n",
    "                            '@me.com']\n",
    "\n",
    "professional  =   [         '@amex.com',             \n",
    "                            '@merck.com'       ,   \n",
    "                            '@cocacola.com'    ,       \n",
    "                            '@jnj.com'         ,     \n",
    "                            '@mcdonalds.com'   ,     \n",
    "                            '@nike.com'        ,     \n",
    "                            '@apple.com'       ,     \n",
    "                            '@dupont.com'      ,     \n",
    "                            '@ge.org'          ,     \n",
    "                            '@ibm.com'         ,    \n",
    "                            '@chevron.com'     ,     \n",
    "                            '@microsoft.com'   ,    \n",
    "                            '@unitedhealth.com',   \n",
    "                            '@travelers.com'   ,    \n",
    "                            '@exxon.com'       ,     \n",
    "                            '@boeing.com'      ,      \n",
    "                            '@verizon.com'     ,      \n",
    "                            '@mmm.com'         ,       \n",
    "                            '@caterpillar.com' ,     \n",
    "                            '@pg.com'          ,       \n",
    "                            '@walmart.com'     ,       \n",
    "                            '@disney.com'      ,        \n",
    "                            '@visa.com'        ,       \n",
    "                            '@pfizer.com'      ,       \n",
    "                            '@jpmorgan.com'    ,      \n",
    "                            '@goldmansacs.com' ,      \n",
    "                            '@unitedtech.com'  ,      \n",
    "                            '@cisco.com'       ,     \n",
    "                            '@intel.com'       ,       \n",
    "                            '@homedepot.com'   ]\n",
    "\n",
    "\n",
    "# placeholder list\n",
    "placeholder_lst = []\n",
    "\n",
    "# looping to group observations by domain type\n",
    "for domain in df['email_domain']:\n",
    "        if '@' + domain in personal:\n",
    "            placeholder_lst.append('personal')\n",
    "                  \n",
    "        elif '@' + domain in junk:\n",
    "            placeholder_lst.append('junk')\n",
    "        \n",
    "        elif '@' + domain in professional:\n",
    "            placeholder_lst.append('professional')\n",
    "            \n",
    "        else:\n",
    "            print('Unknown')\n",
    "\n",
    "# concatenating with original DataFrame\n",
    "df['domain_group'] = pd.Series(placeholder_lst)\n",
    "\n",
    "#Prepare the data (code it into number)\n",
    "# one hot encoding categorical variables\n",
    "one_hot_domain       = pd.get_dummies(df['domain_group'])\n",
    "\n",
    "# dropping categorical variables after they've been encoded\n",
    "df = df.drop('domain_group', axis = 1)\n",
    "\n",
    "# joining codings together- appending new data into the dataset\n",
    "df = df.join([one_hot_domain])\n",
    "\n",
    "# saving new columns\n",
    "new_columns = df.columns"
   ]
  },
  {
   "cell_type": "code",
   "execution_count": 6,
   "metadata": {
    "deletable": false,
    "editable": false
   },
   "outputs": [],
   "source": [
    "# make new variable (NUMBER_OF_NAMES)\n",
    "\n",
    "# calling text_split_feature\n",
    "text_split_feature('NAME', df, sep='')"
   ]
  },
  {
   "cell_type": "code",
   "execution_count": 7,
   "metadata": {
    "deletable": false,
    "editable": false
   },
   "outputs": [],
   "source": [
    "# make labels for a column  \n",
    "\n",
    "# assign labels \n",
    "df['rating'] = pd.cut(df['MEDIAN_MEAL_RATING'], bins=[0,1,2,3,4,5],\\\n",
    "                   labels=[\"Bad\",\"Decent\", \"Good\", \"Great\", \"Excellent\"])\n",
    "\n",
    "# One hot encoding categorical variables\n",
    "one_hot_rating     = pd.get_dummies(df['rating'])\n",
    "\n",
    "# dropping categorical variables after they've been encoded\n",
    "df = df.drop('rating', axis = 1)\n",
    "\n",
    "# joining codings together\n",
    "df = df.join([one_hot_rating])\n",
    "\n",
    "# saving new columns\n",
    "new_columns = df.columns"
   ]
  },
  {
   "cell_type": "code",
   "execution_count": 8,
   "metadata": {
    "deletable": false,
    "editable": false
   },
   "outputs": [],
   "source": [
    "# drop unnecessary variables\n",
    "df = df.drop('NAME', axis = 1)\n",
    "df = df.drop('EMAIL', axis = 1)\n",
    "df = df.drop('FIRST_NAME', axis = 1)\n",
    "df = df.drop('FAMILY_NAME', axis =1)\n",
    "df = df.drop('email_domain', axis =1)"
   ]
  },
  {
   "cell_type": "code",
   "execution_count": 9,
   "metadata": {
    "deletable": false,
    "editable": false
   },
   "outputs": [
    {
     "data": {
      "text/plain": [
       "AVG_PREP_VID_TIME     0.64\n",
       "MEDIAN_MEAL_RATING    0.61\n",
       "Name: REVENUE, dtype: float64"
      ]
     },
     "execution_count": 9,
     "metadata": {},
     "output_type": "execute_result"
    }
   ],
   "source": [
    "# check correlation\n",
    "df_corr = df.corr().round(2)   \n",
    "\n",
    "# check correlations with top 2 variables \n",
    "df_corr.loc['REVENUE',                                     \n",
    "           ['AVG_PREP_VID_TIME', 'MEDIAN_MEAL_RATING']].sort_values(\n",
    "                                                        ascending = False)"
   ]
  },
  {
   "cell_type": "code",
   "execution_count": 10,
   "metadata": {
    "deletable": false,
    "editable": false
   },
   "outputs": [],
   "source": [
    "#####################################\n",
    "# LINEAR REGRESSION MODEL (OLS) FOR REVENUE \n",
    "#####################################\n",
    "\n",
    "# prepare explanatory variables by dropping objects and y-variables\n",
    "df_data_OLS   = df.drop(['REVENUE',\n",
    "                    'log_REVENUE'], axis = 1)\n",
    "\n",
    "# prepare response variables\n",
    "# df_target_OLS     = df.loc[ : , 'REVENUE']\n",
    "log_df_target_OLS = df.loc[ : , 'log_REVENUE']\n",
    "\n",
    "# prepare training and testing sets \n",
    "x_train_log, x_test_log, y_train_log, y_test_log = train_test_split(\n",
    "    df_data_OLS,\n",
    "    log_df_target_OLS,\n",
    "    test_size = 0.25,\n",
    "    random_state = 219)\n",
    "\n",
    "# INSTANTIATING a model object\n",
    "lr = LinearRegression()\n",
    "\n",
    "# FITTING to the training data\n",
    "lr_fit = lr.fit(x_train_log, y_train_log)\n",
    "\n",
    "# PREDICTING on new data\n",
    "lr_pred = lr_fit.predict(x_test_log)\n",
    "\n",
    "# save in variables for future use \n",
    "lr_train_score = lr.score(x_train_log, y_train_log).round(3) \n",
    "lr_test_score  = lr.score(x_test_log, y_test_log).round(3)    # R-Sqaure\n",
    "lr_test_gap    = abs(lr_train_score - lr_test_score).round(3)"
   ]
  },
  {
   "cell_type": "code",
   "execution_count": 11,
   "metadata": {
    "deletable": false,
    "editable": false
   },
   "outputs": [],
   "source": [
    "#####################################\n",
    "# DECISION TREE MODEL MODEL (CLASSIFICATION) FOR CROSS-SELL SUCCESS  \n",
    "#####################################\n",
    "\n",
    "# create the dictionary with significant variables only \n",
    "candidate_dict = {  \n",
    "'logit_sig'      :  ['CANCELLATIONS_BEFORE_NOON' ,  \n",
    "                     'NUMBER_OF_NAMES' , \n",
    "                     'junk' ,\n",
    "                     'professional']\n",
    "} \n",
    "\n",
    "# set explanatory and response variables \n",
    "df_data_dt   =  df.loc[ : , candidate_dict['logit_sig']]\n",
    "df_target_dt =  df.loc[ : , 'CROSS_SELL_SUCCESS']\n",
    "\n",
    "# train/test split\n",
    "x_train, x_test, y_train, y_test = train_test_split(\n",
    "                                                    df_data_dt,\n",
    "                                                    df_target_dt,\n",
    "                                                    random_state = 219,\n",
    "                                                    test_size    = 0.25,\n",
    "                                                    stratify     = df_target_dt)\n",
    "\n",
    "# classification tree with tuned hyperparameters\n",
    "tree_tuned      = DecisionTreeClassifier(max_depth=3, \n",
    "                                         min_samples_leaf=18, \n",
    "                                         random_state=219)\n",
    "\n",
    "tree_tuned_fit  = tree_tuned.fit(x_train, y_train)\n",
    "\n",
    "tree_tuned_pred = tree_tuned.predict(x_test)\n",
    "\n",
    "\n",
    "# saving scoring data for future use\n",
    "tree_train_score = tree_tuned_fit.score(x_train, y_train).round(3) \n",
    "tree_test_score  = tree_tuned_fit.score(x_test, y_test).round(3)   \n",
    "tree_auc = roc_auc_score(y_true  = y_test,\n",
    "                         y_score = tree_tuned_pred).round(3)       # AUC\n",
    "tree_tuned_gap = abs(tree_train_score - tree_test_score).round(3)"
   ]
  },
  {
   "cell_type": "markdown",
   "metadata": {},
   "source": [
    "**Appendix A:**  *Revenue model's highest R-Square value and Cross-sell model's highest AUC score*"
   ]
  },
  {
   "cell_type": "code",
   "execution_count": 12,
   "metadata": {
    "deletable": false,
    "editable": false
   },
   "outputs": [
    {
     "data": {
      "text/html": [
       "<div>\n",
       "<style scoped>\n",
       "    .dataframe tbody tr th:only-of-type {\n",
       "        vertical-align: middle;\n",
       "    }\n",
       "\n",
       "    .dataframe tbody tr th {\n",
       "        vertical-align: top;\n",
       "    }\n",
       "\n",
       "    .dataframe thead th {\n",
       "        text-align: right;\n",
       "    }\n",
       "</style>\n",
       "<table border=\"1\" class=\"dataframe\">\n",
       "  <thead>\n",
       "    <tr style=\"text-align: right;\">\n",
       "      <th></th>\n",
       "      <th>Model Name</th>\n",
       "      <th>Model Type</th>\n",
       "      <th>R-Square</th>\n",
       "      <th>AUC Score</th>\n",
       "      <th>Train-Test Gap</th>\n",
       "    </tr>\n",
       "  </thead>\n",
       "  <tbody>\n",
       "    <tr>\n",
       "      <th>0</th>\n",
       "      <td>Revenue</td>\n",
       "      <td>Ordinary Least Squares Regression</td>\n",
       "      <td>0.795</td>\n",
       "      <td>-</td>\n",
       "      <td>0.001</td>\n",
       "    </tr>\n",
       "    <tr>\n",
       "      <th>1</th>\n",
       "      <td>Cross-Sell</td>\n",
       "      <td>Tuned Decision Tree</td>\n",
       "      <td>-</td>\n",
       "      <td>0.732</td>\n",
       "      <td>0.036</td>\n",
       "    </tr>\n",
       "  </tbody>\n",
       "</table>\n",
       "</div>"
      ],
      "text/plain": [
       "   Model Name                         Model Type R-Square AUC Score  Train-Test Gap\n",
       "0     Revenue  Ordinary Least Squares Regression    0.795         -           0.001\n",
       "1  Cross-Sell                Tuned Decision Tree        -     0.732           0.036"
      ]
     },
     "execution_count": 12,
     "metadata": {},
     "output_type": "execute_result"
    }
   ],
   "source": [
    "# create a dictionary of model results\n",
    "model_performance = {\n",
    "    \n",
    "    'Model Name'     : ['Revenue', 'Cross-Sell'],\n",
    "           \n",
    "    'Model Type'     : ['Ordinary Least Squares Regression', 'Tuned Decision Tree'],\n",
    "           \n",
    "    'R-Square'       : [lr_test_score, '-'],\n",
    "    \n",
    "    'AUC Score'      : ['-',tree_auc],\n",
    "                    \n",
    "    'Train-Test Gap' : [lr_test_gap, tree_tuned_gap]}\n",
    "\n",
    "# display output of model scores \n",
    "pd.DataFrame(model_performance)"
   ]
  },
  {
   "cell_type": "markdown",
   "metadata": {},
   "source": [
    "**Appendix B:** *Heatmap of Top 2 Features having linear correlations with Revenue* "
   ]
  },
  {
   "cell_type": "code",
   "execution_count": 13,
   "metadata": {
    "deletable": false,
    "editable": false
   },
   "outputs": [
    {
     "data": {
      "image/png": "[encoded data removed]",
      "text/plain": [
       "<Figure size 864x576 with 2 Axes>"
      ]
     },
     "metadata": {
      "needs_background": "light"
     },
     "output_type": "display_data"
    }
   ],
   "source": [
    "# setting figure size\n",
    "fig, ax = plt.subplots(figsize=(12,8))\n",
    "\n",
    "# limiting the size of the correlation matrix\n",
    "df_corr2 = df_corr.loc[ ['REVENUE', 'AVG_PREP_VID_TIME',\n",
    "                         'MEDIAN_MEAL_RATING'],\n",
    "                        ['REVENUE', 'AVG_PREP_VID_TIME',\n",
    "                         'MEDIAN_MEAL_RATING']]\n",
    "\n",
    "# visualizing the correlation matrix\n",
    "sns.heatmap(df_corr2,\n",
    "            cmap = 'Greens',\n",
    "            square = True,\n",
    "            annot = True,\n",
    "            linecolor = 'white',\n",
    "            linewidths = 1,\n",
    "            cbar = True)\n",
    "\n",
    "# aligning y-axis ticks \n",
    "plt.yticks(np.arange(3)+0.5,('REVENUE','AVG_PREP_VID_TIME',\n",
    "                             'MEDIAN_MEAL_RATING',), \n",
    "                               rotation=0, fontsize=\"10\", va=\"center\")\n",
    "\n",
    "# title the plot\n",
    "plt.title(\"\"\"\n",
    "Linear Correlation for Top 2 Features Relating to Revenue\n",
    "\"\"\")\n",
    "\n",
    "# fixing layout and display\n",
    "plt.tight_layout()\n",
    "plt.show()"
   ]
  },
  {
   "cell_type": "markdown",
   "metadata": {},
   "source": [
    "**Appendix C:** *Chart of Important Features Predictive of Cross-Selling Promotional Success* "
   ]
  },
  {
   "cell_type": "code",
   "execution_count": 14,
   "metadata": {
    "deletable": false,
    "editable": false
   },
   "outputs": [
    {
     "name": "stderr",
     "output_type": "stream",
     "text": [
      "<ipython-input-2-06cee4121203>:81: FutureWarning: The pandas.np module is deprecated and will be removed from pandas in a future version. Import numpy directly instead\n",
      "  plt.yticks(pd.np.arange(n_features), train.columns)\n"
     ]
    },
    {
     "data": {
      "image/png": "[encoded data removed]",
      "text/plain": [
       "<Figure size 864x648 with 1 Axes>"
      ]
     },
     "metadata": {
      "needs_background": "light"
     },
     "output_type": "display_data"
    }
   ],
   "source": [
    "# plotting feature importance\n",
    "plot_feature_importances(tree_tuned_fit,\n",
    "                         train  = x_train,\n",
    "                         export = False)\n",
    "\n",
    "# title the plot\n",
    "plt.title(\"\"\"\n",
    "Top Features for Classification Relating to Cross-Sell Success\n",
    "\"\"\")\n",
    "\n",
    "# fix layout and display\n",
    "plt.tight_layout()"
   ]
  },
  {
   "cell_type": "markdown",
   "metadata": {},
   "source": [
    "# References"
   ]
  },
  {
   "cell_type": "markdown",
   "metadata": {},
   "source": [
    "- Buckle, C. (2018). Rethinking “Trust” in a New Era of Data Privacy. GWI. https://blog.globalwebindex.com/chart-of-the-week/trust-data-privacy/\n",
    "\n",
    "\n",
    "- Kvidahl, M. (2018). Personalized ready meals: Where customization meets convenience. Natural Products INSIDER. https://www.naturalproductsinsider.com/foods/personalized-ready-meals-where-customization-meets-convenience\n",
    "\n",
    "\n",
    "- Thurston, L. (2015). Why Tasty Videos are so Successful | Facebook Strategy. Retrieved January 29, 2021, from https://roundpeg.biz/2017/11/tasty-videos-successful/\n"
   ]
  }
 ],
 "metadata": {
  "kernelspec": {
   "display_name": "Python 3",
   "language": "python",
   "name": "python3"
  },
  "language_info": {
   "codemirror_mode": {
    "name": "ipython",
    "version": 3
   },
   "file_extension": ".py",
   "mimetype": "text/x-python",
   "name": "python",
   "nbconvert_exporter": "python",
   "pygments_lexer": "ipython3",
   "version": "3.8.3"
  },
  "toc": {
   "base_numbering": 1,
   "nav_menu": {},
   "number_sections": true,
   "sideBar": true,
   "skip_h1_title": false,
   "title_cell": "Table of Contents",
   "title_sidebar": "Contents",
   "toc_cell": false,
   "toc_position": {},
   "toc_section_display": true,
   "toc_window_display": false
  },
  "varInspector": {
   "cols": {
    "lenName": 16,
    "lenType": 16,
    "lenVar": 40
   },
   "kernels_config": {
    "python": {
     "delete_cmd_postfix": "",
     "delete_cmd_prefix": "del ",
     "library": "var_list.py",
     "varRefreshCmd": "print(var_dic_list())"
    },
    "r": {
     "delete_cmd_postfix": ") ",
     "delete_cmd_prefix": "rm(",
     "library": "var_list.r",
     "varRefreshCmd": "cat(var_dic_list()) "
    }
   },
   "types_to_exclude": [
    "module",
    "function",
    "builtin_function_or_method",
    "instance",
    "_Feature"
   ],
   "window_display": false
  }
 },
 "nbformat": 4,
 "nbformat_minor": 4
}
